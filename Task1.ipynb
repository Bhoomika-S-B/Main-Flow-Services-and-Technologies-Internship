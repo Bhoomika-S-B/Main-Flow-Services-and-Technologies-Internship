{
 "cells": [
  {
   "cell_type": "code",
   "execution_count": 2,
   "id": "a0f91c19-4b63-4e80-a9dd-1d95c158fbae",
   "metadata": {},
   "outputs": [
    {
     "name": "stdout",
     "output_type": "stream",
     "text": [
      "Updated List: [10, 2, 4, 5, 6]\n"
     ]
    }
   ],
   "source": [
    "#creating a List\n",
    "my_list = [1,2,3,4,5]\n",
    "\n",
    "#Adding an element to the List\n",
    "my_list.append(6)\n",
    "\n",
    "#Removing an element from List\n",
    "my_list.remove(3)\n",
    "\n",
    "#Modifying an element in the List\n",
    "my_list[0] = 10\n",
    "\n",
    "print(\"Updated List:\", my_list)"
   ]
  },
  {
   "cell_type": "code",
   "execution_count": 7,
   "id": "42b86261-741b-412f-999a-cec62e8112a7",
   "metadata": {},
   "outputs": [
    {
     "name": "stdout",
     "output_type": "stream",
     "text": [
      "Updated Dictionary: {'name': 'John', 'city': 'Mumbai', 'gender': 'Male'}\n"
     ]
    }
   ],
   "source": [
    "#Creating a dictionary\n",
    "my_dict = {'name': 'John', 'age': 25, 'city': 'Delhi'}\n",
    "\n",
    "#Adding\n",
    "my_dict['gender']= 'Male'\n",
    "\n",
    "#Removing\n",
    "del my_dict['age']\n",
    "\n",
    "#Modifying\n",
    "my_dict['city'] = 'Mumbai'\n",
    "\n",
    "print(\"Updated Dictionary:\" , my_dict)"
   ]
  },
  {
   "cell_type": "code",
   "execution_count": 8,
   "id": "5de31c09-2589-459e-abe9-6b65d5d6ef64",
   "metadata": {},
   "outputs": [
    {
     "name": "stdout",
     "output_type": "stream",
     "text": [
      "Updated Set: {2, 4, 5, 6, 10}\n"
     ]
    }
   ],
   "source": [
    "#create a set\n",
    "my_set = {1,2,3,4,5}\n",
    "\n",
    "#Adding\n",
    "my_set.add(6)\n",
    "\n",
    "#Removing\n",
    "my_set.remove(3)\n",
    "\n",
    "#Modifying\n",
    "my_set.add(10)\n",
    "my_set.discard(1)\n",
    "\n",
    "print(\"Updated Set:\", my_set) "
   ]
  }
 ],
 "metadata": {
  "kernelspec": {
   "display_name": "Python 3 (ipykernel)",
   "language": "python",
   "name": "python3"
  },
  "language_info": {
   "codemirror_mode": {
    "name": "ipython",
    "version": 3
   },
   "file_extension": ".py",
   "mimetype": "text/x-python",
   "name": "python",
   "nbconvert_exporter": "python",
   "pygments_lexer": "ipython3",
   "version": "3.11.7"
  }
 },
 "nbformat": 4,
 "nbformat_minor": 5
}
